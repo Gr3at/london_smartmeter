{
 "cells": [
  {
   "cell_type": "code",
   "execution_count": 48,
   "metadata": {},
   "outputs": [],
   "source": [
    "import pandas as pd\n",
    "import numpy as np\n",
    "import matplotlib\n",
    "matplotlib.use('Agg')\n",
    "import matplotlib.pyplot as plt\n",
    "import pickle\n",
    "import os\n",
    "import sys"
   ]
  },
  {
   "cell_type": "code",
   "execution_count": 49,
   "metadata": {},
   "outputs": [],
   "source": [
    "model_name = 'mlp'\n",
    "# dtree,linear_regression,ridge,ridge_poly2,mlp,\n",
    "# set forecast horizon\n",
    "H = 6"
   ]
  },
  {
   "cell_type": "code",
   "execution_count": 50,
   "metadata": {},
   "outputs": [],
   "source": [
    "def generate_forecasts(test_df):\n",
    "      \n",
    "    predictions_df = test_df.copy()\n",
    "    X_test = test_df.copy().drop(['demand', 'timeStamp'], axis=1)\n",
    "    \n",
    "    # Iterate over future time steps\n",
    "    for n in range(1, H+1):\n",
    "        predictions_df['pred_t+'+str(n)] = model.predict(X_test)\n",
    "        \n",
    "        # shift lagged demand features...\n",
    "        shift_demand_features(X_test)\n",
    "        \n",
    "        # ...and replace demand_lag1 with latest prediction\n",
    "        X_test['demand_lag1'] = predictions_df['pred_t+'+str(n)]\n",
    "        \n",
    "    return predictions_df\n",
    "\n",
    "\n",
    "def shift_demand_features(df):\n",
    "    for i in range(H, 1, -1):\n",
    "        df['demand_lag'+str(i)] = df['demand_lag'+str(i-1)]\n",
    "\n",
    "\n",
    "def evaluate_forecast(predictions_df, n):\n",
    "    '''\n",
    "    Compute forecast performance metrics for every n step ahead\n",
    "    '''\n",
    "\n",
    "    y_true = predictions_df['demand']\n",
    "    y_pred = predictions_df['pred_t+'+str(n)]\n",
    "    error = y_pred - y_true\n",
    "    \n",
    "    metrics = {}\n",
    "    \n",
    "    # forecast bias\n",
    "    metrics['ME'] = error.mean()\n",
    "    metrics['MPE'] = 100 * (error / y_true).mean()\n",
    "    \n",
    "    # forecast error\n",
    "    #MSE = mean_squared_error(y_true, y_pred)\n",
    "    metrics['MSE'] = (error**2).mean()\n",
    "    metrics['RMSE'] = metrics['MSE']**0.5\n",
    "    metrics['MAPE'] = 100 * (error.abs() / y_true).mean()\n",
    "    metrics['sMAPE'] = 200 * (error.abs() / y_true).mean()\n",
    "    \n",
    "    # relative error\n",
    "    naive_pred = predictions_df['demand_lag'+str(n)]\n",
    "    naive_error = naive_pred - y_true\n",
    "    RE = error / naive_error\n",
    "    metrics['MAPE_base'] = 100 * (naive_error.abs() / y_true).mean()\n",
    "    metrics['MdRAE'] = np.median(RE.abs())\n",
    "    \n",
    "    return metrics\n",
    "\n",
    "\n",
    "def plot_metric(metric, performance_metrics):\n",
    "    '''\n",
    "    Plots metrics over forecast period t+1 to t+H\n",
    "    '''\n",
    "    plt_series = performance_metrics.stack()[metric]\n",
    "    fig = plt.figure(figsize=(6, 4), dpi=75)\n",
    "    plt.plot(plt_series.index, plt_series)\n",
    "    plt.xlabel(\"Forecast t+n\")\n",
    "    plt.ylabel(metric)\n",
    "    fig.savefig(metric + '.png', bbox_inches='tight')\n"
   ]
  },
  {
   "cell_type": "code",
   "execution_count": 51,
   "metadata": {},
   "outputs": [],
   "source": [
    "# load the test set\n",
    "test = pd.read_csv('nyc_demand_test.csv', parse_dates=['timeStamp'])\n",
    "\n",
    "# Load trained model pipeline\n",
    "with open(model_name + '.pkl', 'rb') as f:\n",
    "    model = pickle.load(f)\n",
    "\n",
    "# generate forecasts on the test set\n",
    "predictions_df = generate_forecasts(test)\n",
    "\n",
    "# calculate model performance metrics\n",
    "performance_metrics = pd.DataFrame.from_dict({1:evaluate_forecast(predictions_df, 1),\n",
    "                                            2:evaluate_forecast(predictions_df, 2),\n",
    "                                            3:evaluate_forecast(predictions_df, 3),\n",
    "                                            4:evaluate_forecast(predictions_df, 4),\n",
    "                                            5:evaluate_forecast(predictions_df, 5),\n",
    "                                            6:evaluate_forecast(predictions_df, 6)})\n"
   ]
  },
  {
   "cell_type": "code",
   "execution_count": 52,
   "metadata": {},
   "outputs": [
    {
     "name": "stderr",
     "output_type": "stream",
     "text": [
      "/home/el10/Downloads/yes/lib/python3.6/site-packages/matplotlib/pyplot.py:528: RuntimeWarning: More than 20 figures have been opened. Figures created through the pyplot interface (`matplotlib.pyplot.figure`) are retained until explicitly closed and may consume too much memory. (To control this warning, see the rcParam `figure.max_open_warning`).\n",
      "  max_open_warning, RuntimeWarning)\n"
     ]
    }
   ],
   "source": [
    "\"\"\"\n",
    "# Compute and log average of metrics over the forecast horizon\n",
    "horizon_mean = performance_metrics.mean(axis=1)\n",
    "for metric, value in horizon_mean.iteritems():\n",
    "    run_logger.log(metric + '_horizon', value)\n",
    "\n",
    "# Log the t+1 forecast metrics\n",
    "for metric, value in performance_metrics[1].iteritems():\n",
    "    run_logger.log(metric, value)\n",
    "\"\"\"\n",
    "# Plot metrics over forecast period. View the output in Run History to view.\n",
    "plot_metric('RMSE', performance_metrics)\n",
    "plot_metric('MAPE', performance_metrics)\n",
    "plot_metric('MSE', performance_metrics)\n",
    "\n",
    "# Output the predictions dataframe\n",
    "with open(model_name + '_predictions.pkl', 'wb') as f:\n",
    "    pickle.dump(predictions_df, f)\n",
    "\n",
    "# Store the trained model in the Outputs folder.\n",
    "with open(model_name + '.pkl', 'wb') as f:    \n",
    "    pickle.dump(model, f)"
   ]
  },
  {
   "cell_type": "code",
   "execution_count": null,
   "metadata": {},
   "outputs": [],
   "source": []
  }
 ],
 "metadata": {
  "kernelspec": {
   "display_name": "Python 3",
   "language": "python",
   "name": "python3"
  },
  "language_info": {
   "codemirror_mode": {
    "name": "ipython",
    "version": 3
   },
   "file_extension": ".py",
   "mimetype": "text/x-python",
   "name": "python",
   "nbconvert_exporter": "python",
   "pygments_lexer": "ipython3",
   "version": "3.6.8"
  }
 },
 "nbformat": 4,
 "nbformat_minor": 2
}
