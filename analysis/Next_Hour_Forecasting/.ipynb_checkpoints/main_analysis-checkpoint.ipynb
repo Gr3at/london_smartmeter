{
 "cells": [
  {
   "cell_type": "code",
   "execution_count": 1,
   "metadata": {},
   "outputs": [
    {
     "name": "stderr",
     "output_type": "stream",
     "text": [
      "Using TensorFlow backend.\n"
     ]
    }
   ],
   "source": [
    "#https://machinelearningmastery.com/multivariate-time-series-forecasting-lstms-keras/\n",
    "import itertools\n",
    "from math import sqrt\n",
    "from numpy import concatenate\n",
    "from matplotlib import pyplot\n",
    "from pandas import read_csv\n",
    "from pandas import DataFrame\n",
    "from pandas import concat\n",
    "from pandas.plotting import autocorrelation_plot\n",
    "from sklearn.preprocessing import MinMaxScaler\n",
    "from sklearn.preprocessing import LabelEncoder\n",
    "from sklearn.metrics import mean_squared_error\n",
    "from sklearn.metrics import r2_score\n",
    "from sklearn.model_selection import TimeSeriesSplit\n",
    "from keras.models import Sequential\n",
    "from keras.layers import Dense\n",
    "from keras.layers import LSTM\n",
    "from time import time"
   ]
  },
  {
   "cell_type": "code",
   "execution_count": 2,
   "metadata": {},
   "outputs": [],
   "source": [
    "# convert series to supervised learning\n",
    "def series_to_supervised(data, n_in=1, n_out=1, dropnan=True):\n",
    "    n_vars = 1 if type(data) is list else data.shape[1]\n",
    "    df = DataFrame(data)\n",
    "    cols, names = list(), list()\n",
    "    # input sequence (t-n, ... t-1)\n",
    "    for i in range(n_in, 0, -1):\n",
    "        cols.append(df.shift(i))\n",
    "        names += [('var%d(t-%d)' % (j+1, i)) for j in range(n_vars)]\n",
    "    # forecast sequence (t, t+1, ... t+n)\n",
    "    for i in range(0, n_out):\n",
    "        cols.append(df.shift(-i))\n",
    "        if i == 0:\n",
    "            names += [('var%d(t)' % (j+1)) for j in range(n_vars)]\n",
    "        else:\n",
    "            names += [('var%d(t+%d)' % (j+1, i)) for j in range(n_vars)]\n",
    "    # put it all together\n",
    "    agg = concat(cols, axis=1)\n",
    "    agg.columns = names\n",
    "    # drop rows with NaN values\n",
    "    if dropnan:\n",
    "        agg.dropna(inplace=True)\n",
    "    return agg"
   ]
  },
  {
   "cell_type": "code",
   "execution_count": 3,
   "metadata": {},
   "outputs": [],
   "source": [
    "# load dataset\n",
    "dataset = read_csv('energy_weather_global_data.csv', header=0, index_col=0)\n",
    "dataset.index.name = 'datetime'\n",
    "values = dataset.values"
   ]
  },
  {
   "cell_type": "code",
   "execution_count": 4,
   "metadata": {},
   "outputs": [
    {
     "data": {
      "text/html": [
       "<div>\n",
       "<style scoped>\n",
       "    .dataframe tbody tr th:only-of-type {\n",
       "        vertical-align: middle;\n",
       "    }\n",
       "\n",
       "    .dataframe tbody tr th {\n",
       "        vertical-align: top;\n",
       "    }\n",
       "\n",
       "    .dataframe thead th {\n",
       "        text-align: right;\n",
       "    }\n",
       "</style>\n",
       "<table border=\"1\" class=\"dataframe\">\n",
       "  <thead>\n",
       "    <tr style=\"text-align: right;\">\n",
       "      <th></th>\n",
       "      <th>windSpeed</th>\n",
       "      <th>humidity</th>\n",
       "      <th>temperature</th>\n",
       "      <th>energy</th>\n",
       "      <th>hour</th>\n",
       "      <th>day_of_week</th>\n",
       "      <th>month</th>\n",
       "    </tr>\n",
       "    <tr>\n",
       "      <th>datetime</th>\n",
       "      <th></th>\n",
       "      <th></th>\n",
       "      <th></th>\n",
       "      <th></th>\n",
       "      <th></th>\n",
       "      <th></th>\n",
       "      <th></th>\n",
       "    </tr>\n",
       "  </thead>\n",
       "  <tbody>\n",
       "    <tr>\n",
       "      <th>2012-05-01 00:00:00</th>\n",
       "      <td>5.89</td>\n",
       "      <td>0.89</td>\n",
       "      <td>12.57</td>\n",
       "      <td>651.655001</td>\n",
       "      <td>0</td>\n",
       "      <td>1</td>\n",
       "      <td>5</td>\n",
       "    </tr>\n",
       "    <tr>\n",
       "      <th>2012-05-01 01:00:00</th>\n",
       "      <td>6.17</td>\n",
       "      <td>0.93</td>\n",
       "      <td>12.54</td>\n",
       "      <td>627.957000</td>\n",
       "      <td>1</td>\n",
       "      <td>1</td>\n",
       "      <td>5</td>\n",
       "    </tr>\n",
       "    <tr>\n",
       "      <th>2012-05-01 02:00:00</th>\n",
       "      <td>6.27</td>\n",
       "      <td>0.92</td>\n",
       "      <td>12.47</td>\n",
       "      <td>532.349001</td>\n",
       "      <td>2</td>\n",
       "      <td>1</td>\n",
       "      <td>5</td>\n",
       "    </tr>\n",
       "    <tr>\n",
       "      <th>2012-05-01 03:00:00</th>\n",
       "      <td>5.93</td>\n",
       "      <td>0.90</td>\n",
       "      <td>11.98</td>\n",
       "      <td>497.736000</td>\n",
       "      <td>3</td>\n",
       "      <td>1</td>\n",
       "      <td>5</td>\n",
       "    </tr>\n",
       "    <tr>\n",
       "      <th>2012-05-01 04:00:00</th>\n",
       "      <td>5.20</td>\n",
       "      <td>0.95</td>\n",
       "      <td>11.57</td>\n",
       "      <td>490.989000</td>\n",
       "      <td>4</td>\n",
       "      <td>1</td>\n",
       "      <td>5</td>\n",
       "    </tr>\n",
       "  </tbody>\n",
       "</table>\n",
       "</div>"
      ],
      "text/plain": [
       "                     windSpeed  humidity  temperature      energy  hour  \\\n",
       "datetime                                                                  \n",
       "2012-05-01 00:00:00       5.89      0.89        12.57  651.655001     0   \n",
       "2012-05-01 01:00:00       6.17      0.93        12.54  627.957000     1   \n",
       "2012-05-01 02:00:00       6.27      0.92        12.47  532.349001     2   \n",
       "2012-05-01 03:00:00       5.93      0.90        11.98  497.736000     3   \n",
       "2012-05-01 04:00:00       5.20      0.95        11.57  490.989000     4   \n",
       "\n",
       "                     day_of_week  month  \n",
       "datetime                                 \n",
       "2012-05-01 00:00:00            1      5  \n",
       "2012-05-01 01:00:00            1      5  \n",
       "2012-05-01 02:00:00            1      5  \n",
       "2012-05-01 03:00:00            1      5  \n",
       "2012-05-01 04:00:00            1      5  "
      ]
     },
     "execution_count": 4,
     "metadata": {},
     "output_type": "execute_result"
    }
   ],
   "source": [
    "dataset.head()"
   ]
  },
  {
   "cell_type": "code",
   "execution_count": 5,
   "metadata": {},
   "outputs": [
    {
     "name": "stdout",
     "output_type": "stream",
     "text": [
      "   var1(t-1)  var2(t-1)  var3(t-1)  var4(t-1)  var5(t-1)  var6(t-1)  \\\n",
      "1   0.396341   0.857143   0.478707   0.106745   0.000000   0.166667   \n",
      "2   0.415312   0.909091   0.477918   0.102067   0.043478   0.166667   \n",
      "3   0.422087   0.896104   0.476078   0.083191   0.086957   0.166667   \n",
      "4   0.399051   0.870130   0.463197   0.076357   0.130435   0.166667   \n",
      "5   0.349593   0.935065   0.452418   0.075025   0.173913   0.166667   \n",
      "\n",
      "   var7(t-1)   var4(t)  \n",
      "1   0.363636  0.102067  \n",
      "2   0.363636  0.083191  \n",
      "3   0.363636  0.076357  \n",
      "4   0.363636  0.075025  \n",
      "5   0.363636  0.093044  \n"
     ]
    }
   ],
   "source": [
    "# integer encode direction\n",
    "encoder = LabelEncoder()\n",
    "[encoder.fit_transform(values[:,categor_variable]) for categor_variable in range(4,7)]\n",
    "# ensure all data is float\n",
    "values = values.astype('float32')\n",
    "# normalize features\n",
    "scaler = MinMaxScaler(feature_range=(0, 1))\n",
    "scaled = scaler.fit_transform(values)\n",
    "# frame as supervised learning\n",
    "reframed = series_to_supervised(scaled, 1, 1)\n",
    "# drop columns we don't want to predict\n",
    "reframed.drop(reframed.columns[[7,8,9,11,12,13]], axis=1, inplace=True)\n",
    "print(reframed.head())"
   ]
  },
  {
   "cell_type": "code",
   "execution_count": 6,
   "metadata": {},
   "outputs": [
    {
     "data": {
      "image/png": "[encoded data removed]",
      "text/plain": [
       "<matplotlib.figure.Figure at 0x7f1e2cea9da0>"
      ]
     },
     "metadata": {},
     "output_type": "display_data"
    }
   ],
   "source": [
    "autocorrelation_plot(dataset['energy'].dropna())\n",
    "pyplot.xlim(0,24)\n",
    "pyplot.title('Auto-correlation of hourly demand over a 24 hour period')\n",
    "pyplot.show()"
   ]
  },
  {
   "cell_type": "code",
   "execution_count": 7,
   "metadata": {
    "scrolled": true
   },
   "outputs": [
    {
     "data": {
      "text/html": [
       "<div>\n",
       "<style scoped>\n",
       "    .dataframe tbody tr th:only-of-type {\n",
       "        vertical-align: middle;\n",
       "    }\n",
       "\n",
       "    .dataframe tbody tr th {\n",
       "        vertical-align: top;\n",
       "    }\n",
       "\n",
       "    .dataframe thead th {\n",
       "        text-align: right;\n",
       "    }\n",
       "</style>\n",
       "<table border=\"1\" class=\"dataframe\">\n",
       "  <thead>\n",
       "    <tr style=\"text-align: right;\">\n",
       "      <th></th>\n",
       "      <th>windSpeed</th>\n",
       "      <th>humidity</th>\n",
       "      <th>temperature</th>\n",
       "      <th>energy_1</th>\n",
       "      <th>hour</th>\n",
       "      <th>dayofweek</th>\n",
       "      <th>month</th>\n",
       "      <th>energy</th>\n",
       "    </tr>\n",
       "  </thead>\n",
       "  <tbody>\n",
       "    <tr>\n",
       "      <th>1</th>\n",
       "      <td>0.396341</td>\n",
       "      <td>0.857143</td>\n",
       "      <td>0.478707</td>\n",
       "      <td>0.106745</td>\n",
       "      <td>0.000000</td>\n",
       "      <td>0.166667</td>\n",
       "      <td>0.363636</td>\n",
       "      <td>0.102067</td>\n",
       "    </tr>\n",
       "    <tr>\n",
       "      <th>2</th>\n",
       "      <td>0.415312</td>\n",
       "      <td>0.909091</td>\n",
       "      <td>0.477918</td>\n",
       "      <td>0.102067</td>\n",
       "      <td>0.043478</td>\n",
       "      <td>0.166667</td>\n",
       "      <td>0.363636</td>\n",
       "      <td>0.083191</td>\n",
       "    </tr>\n",
       "    <tr>\n",
       "      <th>3</th>\n",
       "      <td>0.422087</td>\n",
       "      <td>0.896104</td>\n",
       "      <td>0.476078</td>\n",
       "      <td>0.083191</td>\n",
       "      <td>0.086957</td>\n",
       "      <td>0.166667</td>\n",
       "      <td>0.363636</td>\n",
       "      <td>0.076357</td>\n",
       "    </tr>\n",
       "    <tr>\n",
       "      <th>4</th>\n",
       "      <td>0.399051</td>\n",
       "      <td>0.870130</td>\n",
       "      <td>0.463197</td>\n",
       "      <td>0.076357</td>\n",
       "      <td>0.130435</td>\n",
       "      <td>0.166667</td>\n",
       "      <td>0.363636</td>\n",
       "      <td>0.075025</td>\n",
       "    </tr>\n",
       "    <tr>\n",
       "      <th>5</th>\n",
       "      <td>0.349593</td>\n",
       "      <td>0.935065</td>\n",
       "      <td>0.452418</td>\n",
       "      <td>0.075025</td>\n",
       "      <td>0.173913</td>\n",
       "      <td>0.166667</td>\n",
       "      <td>0.363636</td>\n",
       "      <td>0.093044</td>\n",
       "    </tr>\n",
       "  </tbody>\n",
       "</table>\n",
       "</div>"
      ],
      "text/plain": [
       "   windSpeed  humidity  temperature  energy_1      hour  dayofweek     month  \\\n",
       "1   0.396341  0.857143     0.478707  0.106745  0.000000   0.166667  0.363636   \n",
       "2   0.415312  0.909091     0.477918  0.102067  0.043478   0.166667  0.363636   \n",
       "3   0.422087  0.896104     0.476078  0.083191  0.086957   0.166667  0.363636   \n",
       "4   0.399051  0.870130     0.463197  0.076357  0.130435   0.166667  0.363636   \n",
       "5   0.349593  0.935065     0.452418  0.075025  0.173913   0.166667  0.363636   \n",
       "\n",
       "     energy  \n",
       "1  0.102067  \n",
       "2  0.083191  \n",
       "3  0.076357  \n",
       "4  0.075025  \n",
       "5  0.093044  "
      ]
     },
     "execution_count": 7,
     "metadata": {},
     "output_type": "execute_result"
    }
   ],
   "source": [
    "reframed.columns = ['windSpeed', 'humidity' ,'temperature' ,'energy_1', 'hour' ,'dayofweek', 'month', 'energy']\n",
    "reframed.head()"
   ]
  },
  {
   "cell_type": "code",
   "execution_count": null,
   "metadata": {},
   "outputs": [],
   "source": [
    "optimizers_list = ['adam','sgd','Adagrad','RMSprop','Adadelta','Adamax','Nadam','TFOptimizer']\n",
    "loss_list = ['mean_squared_error','mean_absolute_error','mean_absolute_percentage_error','mean_squared_logarithmic_error','squared_hinge','hinge','categorical_hinge','logcosh']\n",
    "for optim, loss_func in itertools.product(optimizers_list, loss_list):\n",
    "    # split into train and test sets\n",
    "    values = reframed.values\n",
    "    n_train_hours = 500 * 24\n",
    "    train = values[:n_train_hours, :]\n",
    "    test = values[n_train_hours:, :]\n",
    "    # split into input and outputs\n",
    "    train_X, train_y = train[:, :-1], train[:, -1]\n",
    "    test_X, test_y = test[:, :-1], test[:, -1]\n",
    "\n",
    "    # Only for LSTM\n",
    "    # reshape input to be 3D [samples, timesteps, features]\n",
    "    train_X = train_X.reshape((train_X.shape[0], 1, train_X.shape[1]))\n",
    "    test_X = test_X.reshape((test_X.shape[0], 1, test_X.shape[1]))\n",
    "    #print(train_X.shape, train_y.shape, test_X.shape, test_y.shape)\n",
    "    \n",
    "    # LSTM Network\n",
    "    # design network\n",
    "    LSTM_start_time = time()\n",
    "    model = Sequential()\n",
    "    model.add(LSTM(50, input_shape=(train_X.shape[1], train_X.shape[2])))\n",
    "    model.add(Dense(1))\n",
    "    model.compile(loss=loss_func, optimizer=optim)\n",
    "    # fit network\n",
    "    history = model.fit(train_X, train_y, epochs=50, batch_size=72, validation_data=(test_X, test_y), verbose=2, shuffle=False)\n",
    "    \"\"\"\n",
    "    # plot history\n",
    "    pyplot.plot(history.history['loss'], label='train')\n",
    "    pyplot.plot(history.history['val_loss'], label='test')\n",
    "    pyplot.legend()\n",
    "    pyplot.show()\n",
    "    \"\"\"\n",
    "    # make a prediction\n",
    "    yhat = model.predict(test_X)\n",
    "    test_X = test_X.reshape((test_X.shape[0], test_X.shape[2]))\n",
    "    # invert scaling for forecast\n",
    "    inv_yhat = concatenate((yhat, test_X[:, 1:]), axis=1)\n",
    "    inv_yhat = scaler.inverse_transform(inv_yhat)\n",
    "    inv_yhat = inv_yhat[:,0]\n",
    "    # invert scaling for actual\n",
    "    test_y = test_y.reshape((len(test_y), 1))\n",
    "    inv_y = concatenate((test_y, test_X[:, 1:]), axis=1)\n",
    "    inv_y = scaler.inverse_transform(inv_y)\n",
    "    inv_y = inv_y[:,0]\n",
    "    # calculate RMSE\n",
    "    LSTM_total_time = time() - LSTM_start_time\n",
    "    rmse = sqrt(mean_squared_error(inv_y, inv_yhat))\n",
    "    r2_error = r2_score(inv_y, inv_yhat)\n",
    "    print(\"Parameters: {} | Test RMSE: {:0.3f} | Test R2: {:0.3f} | Model Time: {:0.3f}\".format(optim, rmse, r2_error, LSTM_total_time))\n",
    "    ###############!!LSTM END!!#####################"
   ]
  },
  {
   "cell_type": "code",
   "execution_count": null,
   "metadata": {},
   "outputs": [],
   "source": [
    "#Plot Reality vs prediction\n",
    "equality = inv_yhat - inv_y\n",
    "pyplot.plot(equality)\n",
    "pyplot.show()"
   ]
  },
  {
   "cell_type": "code",
   "execution_count": 8,
   "metadata": {},
   "outputs": [
    {
     "name": "stdout",
     "output_type": "stream",
     "text": [
      "TimeSeriesSplit(max_train_size=None, n_splits=2)\n"
     ]
    }
   ],
   "source": [
    "X = reframed.values[:,0:7]\n",
    "Y = reframed.values[:,7]\n",
    "tscv = TimeSeriesSplit(n_splits=2)\n",
    "print(tscv)"
   ]
  },
  {
   "cell_type": "code",
   "execution_count": 9,
   "metadata": {},
   "outputs": [
    {
     "name": "stdout",
     "output_type": "stream",
     "text": [
      "TRAIN: [   0    1    2 ..., 5052 5053 5054] TEST: [ 5055  5056  5057 ..., 10107 10108 10109]\n",
      "TRAIN: [    0     1     2 ..., 10107 10108 10109] TEST: [10110 10111 10112 ..., 15162 15163 15164]\n"
     ]
    }
   ],
   "source": [
    "for train_index, test_index in tscv.split(X):\n",
    "    print(\"TRAIN:\", train_index, \"TEST:\", test_index)\n",
    "    X_train, X_test = X[train_index], X[test_index]\n",
    "    y_train, y_test = Y[train_index], Y[test_index]"
   ]
  },
  {
   "cell_type": "code",
   "execution_count": 13,
   "metadata": {},
   "outputs": [
    {
     "data": {
      "text/plain": [
       "49"
      ]
     },
     "execution_count": 13,
     "metadata": {},
     "output_type": "execute_result"
    }
   ],
   "source": [
    "import warnings\n",
    "import itertools\n",
    "import pandas as pd\n",
    "import numpy as np\n",
    "import statsmodels.api as sm\n",
    "import matplotlib.pyplot as plt\n",
    "plt.style.use('fivethirtyeight')\n",
    "# Define the p, d and q parameters to take any value between 0 and 2\n",
    "p = q = range(0, 7)\n",
    "d = range(0, 1)\n",
    "\n",
    "# Generate all different combinations of p, q and q triplets\n",
    "pdq = list(itertools.product(p, d, q))\n",
    "\n",
    "# Generate all different combinations of seasonal p, q and q triplets\n",
    "seasonal_pdq = [(x[0], x[1], x[2], 24) for x in list(itertools.product(p, d, q))]\n",
    "len(seasonal_pdq)"
   ]
  },
  {
   "cell_type": "code",
   "execution_count": null,
   "metadata": {},
   "outputs": [
    {
     "name": "stdout",
     "output_type": "stream",
     "text": [
      "ARIMA(0, 0, 0)x(0, 0, 1, 24)24 - AIC:3923.0859103340063\n",
      "ARIMA(0, 0, 0)x(0, 0, 2, 24)24 - AIC:837.3348798061008\n",
      "ARIMA(0, 0, 0)x(0, 0, 3, 24)24 - AIC:-994.4859335270639\n",
      "ARIMA(0, 0, 0)x(0, 0, 4, 24)24 - AIC:-2004.1179223432603\n"
     ]
    }
   ],
   "source": [
    "warnings.filterwarnings(\"ignore\") # specify to ignore warning messages\n",
    "\n",
    "for param in pdq:\n",
    "    for param_seasonal in seasonal_pdq:\n",
    "        try:\n",
    "            mod = sm.tsa.statespace.SARIMAX(y_train,\n",
    "                                            order=param,\n",
    "                                            seasonal_order=param_seasonal,\n",
    "                                            enforce_stationarity=False,\n",
    "                                            enforce_invertibility=False)\n",
    "\n",
    "            results = mod.fit()\n",
    "            \n",
    "            print('ARIMA{}x{}24 - AIC:{}'.format(param, param_seasonal, results.aic))\n",
    "        except:\n",
    "            continue"
   ]
  },
  {
   "cell_type": "code",
   "execution_count": null,
   "metadata": {},
   "outputs": [],
   "source": []
  }
 ],
 "metadata": {
  "kernelspec": {
   "display_name": "Python 3",
   "language": "python",
   "name": "python3"
  },
  "language_info": {
   "codemirror_mode": {
    "name": "ipython",
    "version": 3
   },
   "file_extension": ".py",
   "mimetype": "text/x-python",
   "name": "python",
   "nbconvert_exporter": "python",
   "pygments_lexer": "ipython3",
   "version": "3.6.8"
  }
 },
 "nbformat": 4,
 "nbformat_minor": 2
}
